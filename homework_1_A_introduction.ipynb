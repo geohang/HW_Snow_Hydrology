{
 "cells": [
  {
   "cell_type": "markdown",
   "metadata": {},
   "source": [
    "# Homework 1: CUAHSI VU : Snow Hydrology"
   ]
  },
  {
   "cell_type": "markdown",
   "metadata": {},
   "source": [
    "# A. Introduction\n",
    "\n",
    "Now that you know how to run SUMMA and have changed model options and parameters, we can start with the homework assignments. In this first homework, the focus will be on changing the meteorological variables that form the time-varying boundary conditions for the model simulations. They are also commonly referred to as model forcings. You will also modify some options that change how these model forcings are changed near the surface. \n",
    "\n",
    "SUMMA forcing files are in NetCDF format and described in the [SUMMA documentation](https://summa.readthedocs.io/en/latest/input_output/SUMMA_input/#meteorological-forcing-files). We will provide you with some functions and python code to modify the input files for the various exercises.\n",
    "\n",
    "Homework 1 consists of a series of notebooks for you to work through:\n",
    "\n",
    "* `homework_1_A_introduction.ipynb` : a brief introduction to Homework 1 (this notebook). \n",
    "\n",
    "* `homework_1_B_setup.ipynb` : get setup to do the exercises\n",
    "\n",
    "* `homework_1_C_exercise_1.ipynb` : instructions for homework 1, exercise 1 -- modify the wind speed\n",
    "\n",
    "* `homework_1_D_exercise_2.ipynb` : instructions for homework 1, exercise 2 -- modify the longwave radiation\n",
    "\n",
    "* `homework_1_E_exercise_3.ipynb` : instructions for homework 1, exercise 3 -- modify decisions, parameters, and forcings"
   ]
  },
  {
   "cell_type": "markdown",
   "metadata": {},
   "source": [
    "Remember that you want to save your notebooks in the `work` directory tree. If things go hopelessly wrong, you can always start over again with the original notebook in your `cuahsi_cu_2019` directory tree."
   ]
  },
  {
   "cell_type": "markdown",
   "metadata": {},
   "source": [
    "## NetCDF forcing files and xarray\n",
    "\n",
    "You'll be using most of the techniques you learned in the `pysumma_howto.ipynb` notebook to modify SUMMA inputs. The new part here is that you will be modifying the NetCDF model forcing files. We don't need any special pySUMMA functions to accomplish this. Instead, we will use some of the functionality that is part of the [xarray](http://xarray.pydata.org/en/stable/) package, which is a very powerful package for analyzing and manipulating NetCDF files. `xarray` is already installed in this virtual machine, so there is no additional setup to get access to this package.\n",
    "\n",
    "We will demonstrate how to manipulate the forcing files in the `homework_1_C_exercise_1.ipynb` and `homework_1_D_exercise_2.ipynb` notebooks."
   ]
  },
  {
   "cell_type": "markdown",
   "metadata": {},
   "source": [
    "## On to the next step"
   ]
  },
  {
   "cell_type": "markdown",
   "metadata": {},
   "source": [
    "That's it for the introduction. Save this notebook and close the tab. You can also right-click on the file in the left panel if it has a green dot next to it and select \"_Shutdown kernel_\" from the popup menu to stop the python session that is executing the commands in this notebook. Then open the next notebook: `/home/jovyan/data/cuahsi_vu/homework_1/homework_1_B_setup.ipynb`."
   ]
  },
  {
   "cell_type": "code",
   "execution_count": null,
   "metadata": {},
   "outputs": [],
   "source": []
  }
 ],
 "metadata": {
  "kernelspec": {
   "display_name": "Python 3",
   "language": "python",
   "name": "python3"
  },
  "language_info": {
   "codemirror_mode": {
    "name": "ipython",
    "version": 3
   },
   "file_extension": ".py",
   "mimetype": "text/x-python",
   "name": "python",
   "nbconvert_exporter": "python",
   "pygments_lexer": "ipython3",
   "version": "3.8.6"
  }
 },
 "nbformat": 4,
 "nbformat_minor": 4
}
