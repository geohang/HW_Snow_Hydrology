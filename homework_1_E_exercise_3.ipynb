{
 "cells": [
  {
   "cell_type": "markdown",
   "metadata": {},
   "source": [
    "# Homework 1 : CUAHSI VU : Snow Hydrology"
   ]
  },
  {
   "cell_type": "markdown",
   "metadata": {},
   "source": [
    "We'll use the setup from the `homework_1_B_setup.ipynb` notebook for this exercise as well and we will use the forcing file with the rescaled wind from the `homework_1_C_exercise_1.ipynb` notebook. If you think that you comprised that setup in a previous exercise, just rerun `homework_1_B_setup.ipynb` and `homework_1_C_exercise_1.ipynb` before continuing."
   ]
  },
  {
   "cell_type": "markdown",
   "metadata": {},
   "source": [
    "## E. Homework 1 Exercise 3"
   ]
  },
  {
   "cell_type": "markdown",
   "metadata": {},
   "source": [
    "### Setup"
   ]
  },
  {
   "cell_type": "code",
   "execution_count": null,
   "metadata": {},
   "outputs": [],
   "source": [
    "%matplotlib inline\n",
    "import warnings\n",
    "warnings.filterwarnings('ignore')\n",
    "import matplotlib.pyplot as plt # if you want to do some plotting using matplotlib (optional)\n",
    "import numpy as np # provide some mathematical functions\n",
    "import xarray as xr # read, write, manipulate and analyze NetCDF files\n",
    "cycle = plt.rcParams['axes.prop_cycle'].by_key()['color']\n",
    "import pysumma as ps"
   ]
  },
  {
   "cell_type": "code",
   "execution_count": null,
   "metadata": {},
   "outputs": [],
   "source": [
    "executable = 'summa.exe'\n",
    "filemanager = '/home/jovyan/data/umpqua/settings/snow_fileManager_umpqua.txt'\n",
    "s = ps.Simulation(executable, filemanager)"
   ]
  },
  {
   "cell_type": "markdown",
   "metadata": {},
   "source": [
    "### Functions"
   ]
  },
  {
   "cell_type": "markdown",
   "metadata": {},
   "source": [
    "We are basically making the same functions available as in the previous notebook. If you need an explanation, see there."
   ]
  },
  {
   "cell_type": "code",
   "execution_count": null,
   "metadata": {},
   "outputs": [],
   "source": [
    "# Stephan-Boltzmann constant (J/s/m^2/K^4)\n",
    "STEFAN = 5.67e-8\n",
    "\n",
    "\n",
    "def vapor_pressure(air_pressure, spec_humid):\n",
    "    \"\"\"See above for derivation\"\"\"\n",
    "    return -1.607 * air_pressure * spec_humid / (spec_humid - 1)\n",
    "\n",
    "\n",
    "def longwave_prata(air_temp, vapor_pressure):\n",
    "    \"\"\"\n",
    "    Reference:\n",
    "        Prata, A.J., 1996. A new long-wave formula for estimating\n",
    "        downward clear-sky radiation at the surface. Q. J. R. Meteor.\n",
    "        Soc. 122 (533), 1127–1151, doi:10.1002/qj.49712253306.\n",
    "    \"\"\"\n",
    "    z = 46.5 * (vapor_pressure / air_temp)\n",
    "    emissivity = 1 - (1 + z) * np.exp(-np.sqrt(1.2 + 3 * z))\n",
    "    return emissivity * np.power(air_temp, 4) * STEFAN\n",
    "        \n",
    "    \n",
    "def longwave_tva(air_temp, vapor_pressure):\n",
    "    \"\"\"\n",
    "    Reference:\n",
    "        Tennessee Valley Authority, 1972. Heat and mass transfer between a\n",
    "        water surface and the atmosphere. Tennessee Valley Authority, Norris,\n",
    "        TN. Laboratory report no. 14. Water resources research report no. 0-6803.\n",
    "    \"\"\"\n",
    "    emissivity = 0.74 + 0.0049 * vapor_pressure/10\n",
    "    return emissivity * np.power(air_temp, 4) * STEFAN\n",
    "\n",
    "\n",
    "def longwave_satterlund(air_temp, vapor_pressure):\n",
    "    \"\"\"\n",
    "    Reference:\n",
    "        Satterlund, D.R., 1979. An improved equation for estimating long-wave\n",
    "        radiation from the atmosphere. Water Resour. Res. 15 (6), 1649–1650,\n",
    "        doi:10.1029/WR015i006p01649.\n",
    "    \"\"\"\n",
    "    vp = vapor_pressure / 10\n",
    "    emissivity = 1.08 * (1 - np.exp(-np.power(vp, air_temp/2016)))\n",
    "    return emissivity * np.power(air_temp, 4) * STEFAN\n",
    "\n",
    "\n",
    "def longwave_anderson(air_temp, vapor_pressure):\n",
    "    \"\"\"\n",
    "    Referencce:\n",
    "        Anderson, E.R., 1954. Energy budget studies, water loss\n",
    "        investigations: lake Hefner studies. U.S. Geol. Surv. Prof. Pap. 269,\n",
    "        71–119 [Available from U.S. Geological Survey, 807 National Center,\n",
    "        Reston, VA 20192.].\n",
    "    \"\"\"\n",
    "    emissivity = 0.68 + 0.036 * np.power(vapor_pressure/10, 0.5)\n",
    "    return emissivity * np.power(air_temp, 4) * STEFAN\n",
    "\n",
    "\n",
    "def cloud_correction(shortwave, lat=43.03, highlimit=0.6, lowlimit=0.35):\n",
    "    \"\"\"Converted from cloudfactor_Jessica.m\"\"\"\n",
    "    doy = shortwave.time.dt.dayofyear\n",
    "    s0 = 1360                     # Solar constant (W/m^2)\n",
    "    phi = lat * 2 * np.pi / 365   # Convert to radian\n",
    "    # Declination in radians\n",
    "    delta = (2 * np.pi / 365) * (23.45 * np.sin(2 * np.pi * (284 + doy) / 365))\n",
    "    \n",
    "    # Top of atmosphere radiation\n",
    "    hs = np.arccos(-np.tan(phi) * np.tan(delta))\n",
    "    q0 = s0 * (1/np.pi) * (\n",
    "        hs * np.sin(phi) * np.sin(delta) + np.cos(phi) * np.cos(delta) * np.sin(hs))\n",
    "    \n",
    "    # Fraction of recieved radiation\n",
    "    k = shortwave / q0\n",
    "    \n",
    "    # Cloud cover fraction\n",
    "    cloud_frac = 1 - ((k - lowlimit) / (highlimit - lowlimit))\n",
    "    cloud_frac = cloud_frac.where(cloud_frac > 0, other=0.0)\n",
    "    cloud_frac = cloud_frac.where(cloud_frac < 1, other=1.0)\n",
    "    return cloud_frac\n",
    "    \n",
    "    \n",
    "def longwave_dokia(air_temp, vapor_pressure, shortwave):\n",
    "    \"\"\"\n",
    "    References:\n",
    "      -Clear sky:\n",
    "        Dilley, A. C., and D. M. O<92>Brien (1998), Estimating downward clear sky\n",
    "        long-wave irradiance at the surface from screen temperature and precipitable\n",
    "        water, Q. J. R. Meteorol. Soc., 124, 1391<96> 1401.\n",
    "      -Cloudy sky:\n",
    "        Kimball, B. A., S. B. Idso, and J. K. Aase (1982), A model of thermal                                                                                          \n",
    "        radiation from partly cloudy and overcast skies, Water Resour. Res., 18,                                                                                       \n",
    "        931<96> 936.                                   \n",
    "    \"\"\"\n",
    "    vp = vapor_pressure / 1000 # Convert to kPa\n",
    "    w = 4560 * (vp / air_temp) # Prata (1996) approximation for precipitable water\n",
    "    \n",
    "    # Clear sky component of longwave\n",
    "    lw_clear = 59.38 + 113.7 * np.power(air_temp / 273.16, 6) + 96.96 * np.sqrt(w / 25)\n",
    "    \n",
    "    # Cloud cover corrections\n",
    "    c = cloud_correction(shortwave)\n",
    "    cloud_temp = air_temp - 11\n",
    "    winter = np.logical_or(vp.time.dt.month <= 2, vp.time.dt.month == 12)\n",
    "    summer = np.logical_and(vp.time.dt.month <= 8, vp.time.dt.month >=6)\n",
    "    cloud_temp[winter] -= 2\n",
    "    cloud_temp[summer] += 2\n",
    "    \n",
    "    # Cloudy sky component of longwave\n",
    "    eps8z = 0.24 + 2.98e-6 * np.power(vp, 2.0) * np.exp(3000/air_temp)\n",
    "    tau8 = 1 - eps8z * (1.4 - (0.4 * eps8z))\n",
    "    f8 = -0.6732 + 0.6240e-2 * cloud_temp - 0.914e-5 * np.power(cloud_temp, 2.0)\n",
    "    lw_cloud = tau8 * c * f8 * STEFAN * np.power(cloud_temp, 4)   \n",
    "    return lw_clear + lw_cloud"
   ]
  },
  {
   "cell_type": "markdown",
   "metadata": {},
   "source": [
    "### Exercise"
   ]
  },
  {
   "cell_type": "markdown",
   "metadata": {},
   "source": [
    "By now, you know how to modify SUMMA model options (or model decisions), SUMMA parameters, and SUMMA forcings. So now it is up to you to design some meaningful SUMMA experiments and investigate the effect of model changes on snow accumulation and melt in the open and under a forest canopy. See if you can get a better match between the observed SWE in the clearing and under the forest canopy then you have seen in the previous notebooks.\n",
    "\n",
    "We provide some  suggested experiments below, but you are free to design your own. Just be clear in motivating the choices that you are making and provide some meaningful analysis.\n",
    "\n",
    "Suggest experiments:\n",
    "\n",
    "* Create a climate change scenario by modifying the temperature and perhaps precipitation in the forcing file. You can simply add an offset to the temperature data and update your forcing file (similar to how we modify the longwave). Then compare snow conditions under climate change with historic snow conditions. _Don't warm too much or you will have no snow!_\n",
    "\n",
    "* Change the wind speed and examine the effect on the simulations. In additions to changing the wind speed directly, you can also change the shape of the windspeed profile near the surface and through the canopy. For example, you can change the `windPrfile` decision from `logBelowCanopy` to `exponential`.\n",
    "\n",
    "* Change decisions and parameters of your choice. For example you may want to test the difference on interception by setting the `snowIncept` decision to `stickysnow` versus `lightsnow` in the Decisions file.\n",
    "\n",
    "There are many more SUMMA parameters that you can change, but that means modifying additional files, which is beyond the scope of this exercise. But play around with the model decisions, paramaters in the local parameter file and model forcings."
   ]
  },
  {
   "cell_type": "markdown",
   "metadata": {},
   "source": [
    "## On to the next step\n",
    "\n",
    "That's it for the third part of the second homework as far as the model simulations go. Prof. Lundquist will talk more about the analysis that you need to do on these simulations. You can do the analysis here in this notebook if python is your analysis software of choice or you can upload your output to HydroShare (in NetCDF or csv format) to do additional analysis.\n",
    "\n",
    "Save this notebook and close the tab. You can also right-click on the file in the left panel if it has a green dot next to it and select \"_Shutdown kernel_\" from the popup menu to stop the python session that is executing the commands in this notebook."
   ]
  },
  {
   "cell_type": "code",
   "execution_count": null,
   "metadata": {},
   "outputs": [],
   "source": []
  }
 ],
 "metadata": {
  "kernelspec": {
   "display_name": "Python 3",
   "language": "python",
   "name": "python3"
  },
  "language_info": {
   "codemirror_mode": {
    "name": "ipython",
    "version": 3
   },
   "file_extension": ".py",
   "mimetype": "text/x-python",
   "name": "python",
   "nbconvert_exporter": "python",
   "pygments_lexer": "ipython3",
   "version": "3.8.6"
  }
 },
 "nbformat": 4,
 "nbformat_minor": 4
}
