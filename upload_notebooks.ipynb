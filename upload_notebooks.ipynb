{
 "cells": [
  {
   "cell_type": "code",
   "execution_count": 1,
   "metadata": {},
   "outputs": [
    {
     "name": "stdout",
     "output_type": "stream",
     "text": [
      "Successfully established a connection with HydroShare\n"
     ]
    }
   ],
   "source": [
    "from pysumma.hydroshare import hydroshare\n",
    "hs_up = hydroshare.hydroshare()"
   ]
  },
  {
   "cell_type": "code",
   "execution_count": 2,
   "metadata": {},
   "outputs": [],
   "source": [
    "files = ('/home/jovyan/data/work/homework_1/homework_1_A_introduction.ipynb', \n",
    "         '/home/jovyan/data/work/homework_1/homework_1_B_setup.ipynb',\n",
    "         '/home/jovyan/data/work/homework_1/homework_1_C_exercise_1.ipynb',\n",
    "         '/home/jovyan/data/work/homework_1/homework_1_D_exercise_2.ipynb',\n",
    "         '/home/jovyan/data/work/homework_1/homework_1_E_exercise_3.ipynb',\n",
    "         '/home/jovyan/data/work/homework_1/upload_notebooks.ipynb',\n",
    "         '/home/jovyan/data/work/homework_1/Homework_Hang.ipynb.ipynb')"
   ]
  },
  {
   "cell_type": "code",
   "execution_count": 3,
   "metadata": {},
   "outputs": [],
   "source": [
    "# write meta data such as abstract, title, keywords, resource type\n",
    "title = 'Homework 2 notebooks'\n",
    "abstract = 'Notebooks used for the homework 2 exercises for the CUAHSI Virtual University snow module'\n",
    "keywords = ('homework', 'snow')\n",
    "resource_type = 'genericresource'"
   ]
  },
  {
   "cell_type": "code",
   "execution_count": 4,
   "metadata": {},
   "outputs": [],
   "source": [
    "metadata = '[{\"creator\":{\"name\":\"Hang Chen\"}}]'"
   ]
  },
  {
   "cell_type": "code",
   "execution_count": 5,
   "metadata": {},
   "outputs": [
    {
     "name": "stdout",
     "output_type": "stream",
     "text": [
      "Resource Created Successfully                           \n",
      "Adding Content to Resource |"
     ]
    },
    {
     "name": "stderr",
     "output_type": "stream",
     "text": [
      "Exception in thread Thread-5:\n",
      "Traceback (most recent call last):\n",
      "  File \"/opt/conda/lib/python3.8/threading.py\", line 932, in _bootstrap_inner\n",
      "    self.run()\n",
      "  File \"/opt/conda/lib/python3.8/threading.py\", line 870, in run\n",
      "    self._target(*self._args, **self._kwargs)\n",
      "  File \"/opt/conda/lib/python3.8/site-packages/pysumma/hydroshare/threads.py\", line 23, in f\n",
      "    res = self.func(*args, **kwargs)\n",
      "  File \"/opt/conda/lib/python3.8/site-packages/pysumma/hydroshare/hydroshare.py\", line 66, in _addContentToExistingResource\n",
      "    self.hs.addResourceFile(resid, f)\n",
      "  File \"/opt/conda/lib/python3.8/site-packages/hs_restclient/__init__.py\", line 845, in addResourceFile\n",
      "    close_fd = self._prepareFileForUpload(params, resource_file, resource_filename)\n",
      "  File \"/opt/conda/lib/python3.8/site-packages/hs_restclient/__init__.py\", line 183, in _prepareFileForUpload\n",
      "    raise HydroShareArgumentException(\"{0} is not a file or is not readable.\".format(resource_file))\n",
      "hs_restclient.exceptions.HydroShareArgumentException: /home/jovyan/data/work/homework_1/Homework_Hang.ipynb.ipynb is not a file or is not readable.\n"
     ]
    },
    {
     "name": "stdout",
     "output_type": "stream",
     "text": [
      "Successfully Added Content Files                      \n"
     ]
    },
    {
     "data": {
      "text/html": [
       "Resource id: 88b84ec54d2f40e698a08b3848d00217"
      ],
      "text/plain": [
       "<IPython.core.display.HTML object>"
      ]
     },
     "metadata": {},
     "output_type": "display_data"
    },
    {
     "data": {
      "text/html": [
       "<a href=https://www.hydroshare.org/resource/88b84ec54d2f40e698a08b3848d00217 target=\"_blank\">Open Resource in HydroShare<a>"
      ],
      "text/plain": [
       "<IPython.core.display.HTML object>"
      ]
     },
     "metadata": {},
     "output_type": "display_data"
    }
   ],
   "source": [
    "# post simulation results of simpleResistance back to HS\n",
    "resource_id = hs_up.createHydroShareResource(title=title, content_files=files, keywords=keywords, abstract=abstract, \n",
    "                                             resource_type=resource_type, public=False)"
   ]
  },
  {
   "cell_type": "code",
   "execution_count": null,
   "metadata": {},
   "outputs": [],
   "source": []
  }
 ],
 "metadata": {
  "kernelspec": {
   "display_name": "Python 3",
   "language": "python",
   "name": "python3"
  },
  "language_info": {
   "codemirror_mode": {
    "name": "ipython",
    "version": 3
   },
   "file_extension": ".py",
   "mimetype": "text/x-python",
   "name": "python",
   "nbconvert_exporter": "python",
   "pygments_lexer": "ipython3",
   "version": "3.8.6"
  }
 },
 "nbformat": 4,
 "nbformat_minor": 4
}
